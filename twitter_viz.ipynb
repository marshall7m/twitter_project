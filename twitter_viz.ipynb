{
 "cells": [
  {
   "cell_type": "code",
   "execution_count": 22,
   "metadata": {},
   "outputs": [],
   "source": [
    "import pandas as pd\n",
    "import matplotlib.pyplot as plt\n",
    "import numpy as np\n",
    "import json"
   ]
  },
  {
   "cell_type": "code",
   "execution_count": 5,
   "metadata": {},
   "outputs": [],
   "source": [
    "with open('random_tweets.json') as json_file:      \n",
    "    all_tweets = json_file.readlines()\n",
    "    all_tweets = list(map(json.loads, all_tweets)) \n",
    "\n",
    "all_tweets = pd.DataFrame(all_tweets)"
   ]
  },
  {
   "cell_type": "code",
   "execution_count": 70,
   "metadata": {},
   "outputs": [
    {
     "name": "stdout",
     "output_type": "stream",
     "text": [
      "RT @amymcollum: I know she isn't your daughter and some of you will glance and move on....PLEASE...today don't do that. PLEASE....today mak…\n"
     ]
    }
   ],
   "source": [
    "#sorted(all_tweets.retweet_count, reverse=True)\n",
    "all_tweets.loc[all_tweets['retweet_count'] == 413719]\n",
    "print(all_tweets.text[5584])"
   ]
  },
  {
   "cell_type": "code",
   "execution_count": 64,
   "metadata": {},
   "outputs": [
    {
     "data": {
      "text/plain": [
       "413719"
      ]
     },
     "execution_count": 64,
     "metadata": {},
     "output_type": "execute_result"
    }
   ],
   "source": [
    "max(all_tweets['retweet_count'])"
   ]
  },
  {
   "cell_type": "code",
   "execution_count": 68,
   "metadata": {},
   "outputs": [
    {
     "data": {
      "image/png": "[encoded data removed]",
      "text/plain": [
       "<Figure size 432x288 with 1 Axes>"
      ]
     },
     "metadata": {
      "needs_background": "light"
     },
     "output_type": "display_data"
    }
   ],
   "source": [
    "#x = all_tweets['retweet_count']\n",
    "#for num in all_tweets['retweet_count']:\n",
    " #   if num >= 80000:\n",
    "  #      all_tweets.loc[all_tweets['retweet_count'] == num, 'popular'] == num\n",
    "x = all_tweets.loc[all_tweets['retweet_count'] > 80000]\n",
    "x1 = x['retweet_count']\n",
    "plt.hist(x1, bins=200)\n",
    "plt.xlim(80000, 413719)\n",
    "plt.ylabel('Frequency')\n",
    "plt.xlabel('Retweet Amount')\n",
    "plt.show()"
   ]
  },
  {
   "cell_type": "code",
   "execution_count": null,
   "metadata": {},
   "outputs": [],
   "source": []
  },
  {
   "cell_type": "code",
   "execution_count": null,
   "metadata": {},
   "outputs": [],
   "source": []
  }
 ],
 "metadata": {
  "kernelspec": {
   "display_name": "Python 3",
   "language": "python",
   "name": "python3"
  },
  "language_info": {
   "codemirror_mode": {
    "name": "ipython",
    "version": 3
   },
   "file_extension": ".py",
   "mimetype": "text/x-python",
   "name": "python",
   "nbconvert_exporter": "python",
   "pygments_lexer": "ipython3",
   "version": "3.7.0"
  }
 },
 "nbformat": 4,
 "nbformat_minor": 2
}
